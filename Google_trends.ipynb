{
 "cells": [
  {
   "cell_type": "code",
   "execution_count": 1,
   "id": "cd9af0bc-475f-40c4-97a2-ad7bdd58700b",
   "metadata": {},
   "outputs": [
    {
     "name": "stdout",
     "output_type": "stream",
     "text": [
      "Collecting pytrends\n",
      "  Downloading pytrends-4.9.2-py3-none-any.whl.metadata (13 kB)\n",
      "Requirement already satisfied: requests>=2.0 in c:\\users\\bm21096\\anaconda3\\envs\\kankyo\\lib\\site-packages (from pytrends) (2.32.3)\n",
      "Requirement already satisfied: pandas>=0.25 in c:\\users\\bm21096\\anaconda3\\envs\\kankyo\\lib\\site-packages (from pytrends) (2.2.3)\n",
      "Collecting lxml (from pytrends)\n",
      "  Downloading lxml-6.0.1-cp311-cp311-win_amd64.whl.metadata (3.9 kB)\n",
      "Requirement already satisfied: numpy>=1.23.2 in c:\\users\\bm21096\\anaconda3\\envs\\kankyo\\lib\\site-packages (from pandas>=0.25->pytrends) (2.2.1)\n",
      "Requirement already satisfied: python-dateutil>=2.8.2 in c:\\users\\bm21096\\anaconda3\\envs\\kankyo\\lib\\site-packages (from pandas>=0.25->pytrends) (2.9.0.post0)\n",
      "Requirement already satisfied: pytz>=2020.1 in c:\\users\\bm21096\\anaconda3\\envs\\kankyo\\lib\\site-packages (from pandas>=0.25->pytrends) (2024.1)\n",
      "Requirement already satisfied: tzdata>=2022.7 in c:\\users\\bm21096\\anaconda3\\envs\\kankyo\\lib\\site-packages (from pandas>=0.25->pytrends) (2024.1)\n",
      "Requirement already satisfied: charset-normalizer<4,>=2 in c:\\users\\bm21096\\anaconda3\\envs\\kankyo\\lib\\site-packages (from requests>=2.0->pytrends) (3.3.2)\n",
      "Requirement already satisfied: idna<4,>=2.5 in c:\\users\\bm21096\\anaconda3\\envs\\kankyo\\lib\\site-packages (from requests>=2.0->pytrends) (3.7)\n",
      "Requirement already satisfied: urllib3<3,>=1.21.1 in c:\\users\\bm21096\\anaconda3\\envs\\kankyo\\lib\\site-packages (from requests>=2.0->pytrends) (2.2.3)\n",
      "Requirement already satisfied: certifi>=2017.4.17 in c:\\users\\bm21096\\anaconda3\\envs\\kankyo\\lib\\site-packages (from requests>=2.0->pytrends) (2025.6.15)\n",
      "Requirement already satisfied: six>=1.5 in c:\\users\\bm21096\\anaconda3\\envs\\kankyo\\lib\\site-packages (from python-dateutil>=2.8.2->pandas>=0.25->pytrends) (1.16.0)\n",
      "Downloading pytrends-4.9.2-py3-none-any.whl (15 kB)\n",
      "Downloading lxml-6.0.1-cp311-cp311-win_amd64.whl (4.0 MB)\n",
      "   ---------------------------------------- 0.0/4.0 MB ? eta -:--:--\n",
      "    --------------------------------------- 0.1/4.0 MB 2.6 MB/s eta 0:00:02\n",
      "   ---- ----------------------------------- 0.4/4.0 MB 5.5 MB/s eta 0:00:01\n",
      "   ---------- ----------------------------- 1.0/4.0 MB 8.3 MB/s eta 0:00:01\n",
      "   ---------------- ----------------------- 1.7/4.0 MB 9.7 MB/s eta 0:00:01\n",
      "   --------------------- ------------------ 2.2/4.0 MB 9.9 MB/s eta 0:00:01\n",
      "   ---------------------- ----------------- 2.2/4.0 MB 8.4 MB/s eta 0:00:01\n",
      "   -------------------------- ------------- 2.7/4.0 MB 8.7 MB/s eta 0:00:01\n",
      "   -------------------------------- ------- 3.3/4.0 MB 9.2 MB/s eta 0:00:01\n",
      "   ------------------------------------- -- 3.8/4.0 MB 9.2 MB/s eta 0:00:01\n",
      "   ---------------------------------------  4.0/4.0 MB 9.2 MB/s eta 0:00:01\n",
      "   ---------------------------------------- 4.0/4.0 MB 8.1 MB/s eta 0:00:00\n",
      "Installing collected packages: lxml, pytrends\n",
      "Successfully installed lxml-6.0.1 pytrends-4.9.2\n"
     ]
    }
   ],
   "source": [
    "!pip install pytrends"
   ]
  },
  {
   "cell_type": "code",
   "execution_count": 2,
   "id": "0849d3a8-239b-450d-ac04-fa59d9613ac7",
   "metadata": {},
   "outputs": [],
   "source": [
    "from pytrends.request import TrendReq\n",
    "import pandas as pd\n",
    "\n",
    "pytrends = TrendReq(hl='ja-JP', tz=540)  # 日本語・日本時間\n",
    "\n"
   ]
  },
  {
   "cell_type": "code",
   "execution_count": 12,
   "id": "66fdbe67-adb5-4f22-91e6-e96d60064e4e",
   "metadata": {},
   "outputs": [],
   "source": [
    "kw_list = [\"エアコン\", \"冷蔵庫\"]\n",
    "pytrends.build_payload(kw_list, timeframe='now 7-d', geo='JP')  # geo='JP'は日本\n",
    "\n"
   ]
  },
  {
   "cell_type": "code",
   "execution_count": 14,
   "id": "e4b2796d-db32-464f-9917-f72f8c21b37e",
   "metadata": {},
   "outputs": [
    {
     "name": "stderr",
     "output_type": "stream",
     "text": [
      "C:\\Users\\bm21096\\anaconda3\\envs\\kankyo\\Lib\\site-packages\\pytrends\\request.py:260: FutureWarning: Downcasting object dtype arrays on .fillna, .ffill, .bfill is deprecated and will change in a future version. Call result.infer_objects(copy=False) instead. To opt-in to the future behavior, set `pd.set_option('future.no_silent_downcasting', True)`\n",
      "  df = df.fillna(False)\n"
     ]
    }
   ],
   "source": [
    "#時系列ごとに出す場合\n",
    "df = pytrends.interest_over_time()\n",
    "df.drop(columns=['isPartial'], inplace=True)  # 不要な列を削除\n",
    "df.to_csv(\"trend_timeseries.csv\",encoding='shift_jis')\n",
    "\n"
   ]
  },
  {
   "cell_type": "code",
   "execution_count": 15,
   "id": "bed97634-2712-43d1-a3b2-a84c02b414c6",
   "metadata": {},
   "outputs": [],
   "source": [
    "#地域ごとに出す場合\n",
    "region_df = pytrends.interest_by_region(resolution='REGION', inc_geo_code=True)\n",
    "region_df.to_csv(\"trend_by_region.csv\",encoding='shift_jis')\n",
    "\n"
   ]
  },
  {
   "cell_type": "code",
   "execution_count": 18,
   "id": "65149ca3-e0d1-46f9-9332-be8a0eda288d",
   "metadata": {},
   "outputs": [
    {
     "name": "stderr",
     "output_type": "stream",
     "text": [
      "C:\\Users\\bm21096\\anaconda3\\envs\\kankyo\\Lib\\site-packages\\pytrends\\request.py:260: FutureWarning: Downcasting object dtype arrays on .fillna, .ffill, .bfill is deprecated and will change in a future version. Call result.infer_objects(copy=False) instead. To opt-in to the future behavior, set `pd.set_option('future.no_silent_downcasting', True)`\n",
      "  df = df.fillna(False)\n",
      "C:\\Users\\bm21096\\anaconda3\\envs\\kankyo\\Lib\\site-packages\\pytrends\\request.py:260: FutureWarning: Downcasting object dtype arrays on .fillna, .ffill, .bfill is deprecated and will change in a future version. Call result.infer_objects(copy=False) instead. To opt-in to the future behavior, set `pd.set_option('future.no_silent_downcasting', True)`\n",
      "  df = df.fillna(False)\n",
      "C:\\Users\\bm21096\\anaconda3\\envs\\kankyo\\Lib\\site-packages\\pytrends\\request.py:260: FutureWarning: Downcasting object dtype arrays on .fillna, .ffill, .bfill is deprecated and will change in a future version. Call result.infer_objects(copy=False) instead. To opt-in to the future behavior, set `pd.set_option('future.no_silent_downcasting', True)`\n",
      "  df = df.fillna(False)\n"
     ]
    }
   ],
   "source": [
    "#地域かつ時系列ごとに出す場合\n",
    "from pytrends.request import TrendReq\n",
    "import pandas as pd\n",
    "\n",
    "pytrends = TrendReq(hl='ja-JP', tz=540)\n",
    "kw = [\"エアコン\"]\n",
    "prefectures = {\n",
    "    \"北海道\": \"JP-01\",\n",
    "    \"東京都\": \"JP-13\",\n",
    "    \"大阪府\": \"JP-27\"\n",
    "    # 必要に応じて追加\n",
    "}\n",
    "\n",
    "all_data = []\n",
    "\n",
    "for name, code in prefectures.items():\n",
    "    pytrends.build_payload(kw, timeframe='2025-03-20 2025-08-27', geo=code)\n",
    "    df = pytrends.interest_over_time()\n",
    "    df[\"地域\"] = name\n",
    "    all_data.append(df)\n",
    "\n",
    "result = pd.concat(all_data)\n",
    "result.reset_index(inplace=True)\n",
    "result.to_csv(\"trend_by_prefecture_timeseries.csv\", encoding='shift_jis', index=False)\n"
   ]
  },
  {
   "cell_type": "code",
   "execution_count": null,
   "id": "96ad0352-f512-44ee-9c78-cb0518168adc",
   "metadata": {},
   "outputs": [],
   "source": []
  }
 ],
 "metadata": {
  "kernelspec": {
   "display_name": "Python 3 (ipykernel)",
   "language": "python",
   "name": "python3"
  },
  "language_info": {
   "codemirror_mode": {
    "name": "ipython",
    "version": 3
   },
   "file_extension": ".py",
   "mimetype": "text/x-python",
   "name": "python",
   "nbconvert_exporter": "python",
   "pygments_lexer": "ipython3",
   "version": "3.11.9"
  }
 },
 "nbformat": 4,
 "nbformat_minor": 5
}
